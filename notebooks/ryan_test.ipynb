{
 "cells": [
  {
   "cell_type": "code",
   "execution_count": 4,
   "id": "f43b380a-cd89-413f-ab96-11b2458d1840",
   "metadata": {},
   "outputs": [],
   "source": [
    "library(shiny)\n",
    "library(wordcloud2)"
   ]
  },
  {
   "cell_type": "code",
   "execution_count": 5,
   "id": "3453b09e-b4ca-4978-b721-e115e7d7b87c",
   "metadata": {},
   "outputs": [],
   "source": [
    "# Define UI for application\n",
    "ui <- fluidPage(\n",
    "  titlePanel(\"Wordle Game\"),\n",
    "  sidebarLayout(\n",
    "    sidebarPanel(\n",
    "      textInput(\"guess\", \"Enter your guess:\"),\n",
    "      actionButton(\"submit\", \"Submit\"),\n",
    "      hr(),\n",
    "      h5(\"Guesses Left:\"),\n",
    "      verbatimTextOutput(\"guesses_left\")\n",
    "    ),\n",
    "    mainPanel(\n",
    "      wordcloud2Output(\"wordcloud\")\n",
    "    )\n",
    "  )\n",
    ")"
   ]
  },
  {
   "cell_type": "code",
   "execution_count": 7,
   "id": "91ad4423-24b8-4fa6-9f34-a610c1c03fd3",
   "metadata": {},
   "outputs": [],
   "source": [
    "# Define UI for application\n",
    "ui <- fluidPage(\n",
    "  titlePanel(\"Wordle Game\"),\n",
    "  sidebarLayout(\n",
    "    sidebarPanel(\n",
    "      textInput(\"guess\", \"Enter your guess:\"),\n",
    "      actionButton(\"submit\", \"Submit\"),\n",
    "      hr(),\n",
    "      h5(\"Guesses Left:\"),\n",
    "      verbatimTextOutput(\"guesses_left\")\n",
    "    ),\n",
    "    mainPanel(\n",
    "      wordcloud2Output(\"wordcloud\")\n",
    "    )\n",
    "  )\n",
    ")\n",
    "\n",
    "# Define server logic\n",
    "server <- function(input, output) {\n",
    "  # Define the target word\n",
    "  target_word <- \"SHINY\"\n",
    "  \n",
    "  # Track the number of guesses made\n",
    "  guesses <- reactiveValues(count = 0)\n",
    "  \n",
    "  # Generate the word cloud\n",
    "  output$wordcloud <- renderWordcloud2({\n",
    "    set.seed(1234)\n",
    "    words <- strsplit(target_word, \"\")[[1]]\n",
    "    freq <- table(sample(words, size = 100, replace = TRUE))\n",
    "    wordcloud2(data = freq)\n",
    "  })\n",
    "  \n",
    "  # Update the guesses left display\n",
    "  output$guesses_left <- renderText({\n",
    "    paste0(5 - guesses$count, \" guesses left.\")\n",
    "  })\n",
    "  \n",
    "  # Check the guess and update the word cloud\n",
    "  observeEvent(input$submit, {\n",
    "    guesses$count <- guesses$count + 1\n",
    "    if (guesses$count == 5) {\n",
    "      showModal(modalDialog(\n",
    "        title = \"Game Over\",\n",
    "        \"You have run out of guesses.\",\n",
    "        footer = tagList(\n",
    "          actionButton(\"new_game\", \"New Game\")\n",
    "        )\n",
    "      ))\n",
    "    } else if (toupper(input$guess) == target_word) {\n",
    "      showModal(modalDialog(\n",
    "        title = \"Congratulations!\",\n",
    "        \"You guessed the word.\",\n",
    "        footer = tagList(\n",
    "          actionButton(\"new_game\", \"New Game\")\n",
    "        )\n",
    "      ))\n",
    "    } else {\n",
    "      showNotification(\"Incorrect guess.\")\n",
    "    }\n",
    "  })\n",
    "  \n",
    "  # Start a new game\n",
    "  observeEvent(input$new_game, {\n",
    "    guesses$count <- 0\n",
    "    input$guess <- \"\"\n",
    "    target_word <<- sample(c(\"SHINY\", \"GLASS\", \"APPLE\", \"ROBOT\", \"TIGER\"), 1)\n",
    "    removeModal()\n",
    "  })\n",
    "}"
   ]
  },
  {
   "cell_type": "code",
   "execution_count": 8,
   "id": "21579b78-7774-4a57-a7bc-d6915aeb2f9e",
   "metadata": {},
   "outputs": [
    {
     "name": "stderr",
     "output_type": "stream",
     "text": [
      "\n",
      "Listening on http://127.0.0.1:5738\n",
      "\n"
     ]
    }
   ],
   "source": [
    "# Run the application\n",
    "shinyApp(ui = ui, server = server)"
   ]
  },
  {
   "cell_type": "code",
   "execution_count": null,
   "id": "68bbcdc4-e371-4d60-8935-52dd1483a0c0",
   "metadata": {},
   "outputs": [],
   "source": []
  }
 ],
 "metadata": {
  "environment": {
   "kernel": "ir",
   "name": "r-cpu.4-2.m108",
   "type": "gcloud",
   "uri": "gcr.io/deeplearning-platform-release/r-cpu.4-2:m108"
  },
  "kernelspec": {
   "display_name": "R",
   "language": "R",
   "name": "ir"
  },
  "language_info": {
   "codemirror_mode": "r",
   "file_extension": ".r",
   "mimetype": "text/x-r-source",
   "name": "R",
   "pygments_lexer": "r",
   "version": "4.2.3"
  }
 },
 "nbformat": 4,
 "nbformat_minor": 5
}
