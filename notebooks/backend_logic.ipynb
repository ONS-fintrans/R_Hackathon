{
 "cells": [
  {
   "cell_type": "markdown",
   "id": "f0e0b314-187d-444f-b3cb-c87f71b7d295",
   "metadata": {},
   "source": [
    "# Backend Logic \n",
    "## R Hackathon"
   ]
  },
  {
   "cell_type": "code",
   "execution_count": 1,
   "id": "91afe07d-b53c-4a3e-a5b3-a1e44912c479",
   "metadata": {},
   "outputs": [
    {
     "name": "stderr",
     "output_type": "stream",
     "text": [
      "Installing package into ‘/home/jupyter/.R/library’\n",
      "(as ‘lib’ is unspecified)\n",
      "\n"
     ]
    }
   ],
   "source": [
    "#devtools::install_github(\"condwanaland/words\")\n",
    "#devtools::install_git(\"https://github.com/condwanaland/words.git\")\n",
    "#https://github.com/condwanaland/words.git\n",
    "install.packages(\"words\")"
   ]
  },
  {
   "cell_type": "markdown",
   "id": "0eb42f96-3d73-46e1-bfce-c21a0be550b8",
   "metadata": {},
   "source": [
    "### Read in packages"
   ]
  },
  {
   "cell_type": "code",
   "execution_count": 1,
   "id": "19cafeb4-dec9-4022-962a-6be8ebaf6f3b",
   "metadata": {},
   "outputs": [
    {
     "name": "stderr",
     "output_type": "stream",
     "text": [
      "\n",
      "Attaching package: ‘stringr’\n",
      "\n",
      "\n",
      "The following object is masked from ‘package:words’:\n",
      "\n",
      "    words\n",
      "\n",
      "\n",
      "\n",
      "Attaching package: ‘dplyr’\n",
      "\n",
      "\n",
      "The following objects are masked from ‘package:stats’:\n",
      "\n",
      "    filter, lag\n",
      "\n",
      "\n",
      "The following objects are masked from ‘package:base’:\n",
      "\n",
      "    intersect, setdiff, setequal, union\n",
      "\n",
      "\n"
     ]
    }
   ],
   "source": [
    "#Packages----\n",
    "library(words)\n",
    "library(stringr)\n",
    "library(dplyr)\n"
   ]
  },
  {
   "cell_type": "code",
   "execution_count": 2,
   "id": "305d25bc-83da-4153-aa28-a68b2c167e23",
   "metadata": {},
   "outputs": [],
   "source": [
    "##WordList----\n",
    "n_length <- 5 #input variable\n",
    "\n",
    "word_list <- words::words %>% \n",
    "  filter(word_length == n_length) %>% \n",
    "  select(word)"
   ]
  },
  {
   "cell_type": "code",
   "execution_count": 3,
   "id": "065b9c47-f3d9-4aac-9cb0-4b29f7cd5451",
   "metadata": {},
   "outputs": [],
   "source": [
    "#Guess----\n",
    "##UI Guess----\n",
    "guess <- sample(word_list$word,1) # used for testing - to be rm in final version\n",
    "guess <- \"pikis\" #input variable\n",
    "\n",
    "##Server word----\n",
    "target <- sample(word_list$word,1) # input variable\n",
    "#target <- \"conin\" # used for testing - to be rm in final version\n",
    "\n",
    "#create lists\n",
    "guess_val <- strsplit(guess, \"\")[[1]]\n",
    "target_val <- strsplit(target, \"\")[[1]]"
   ]
  },
  {
   "cell_type": "markdown",
   "id": "09c310d9-53da-4b7c-a8ea-1efe9b23a95d",
   "metadata": {},
   "source": [
    "### Functions"
   ]
  },
  {
   "cell_type": "markdown",
   "id": "857182d3-2d88-4b59-90cc-5aa68d60391b",
   "metadata": {},
   "source": [
    "#### Exit Game"
   ]
  },
  {
   "cell_type": "code",
   "execution_count": 7,
   "id": "ac7a17ee-e244-489c-b93c-f4c35a558939",
   "metadata": {},
   "outputs": [],
   "source": [
    "##Guess length---\n",
    "guess_length <- function(target, guess) {\n",
    "  if(nchar(guess) != nchar(target)){\n",
    "    stop(\"Error - word not the correct length\")\n",
    "  }\n",
    "}"
   ]
  },
  {
   "cell_type": "code",
   "execution_count": 8,
   "id": "41bbbb75-3fe9-4b3e-9819-85050edfd1a0",
   "metadata": {},
   "outputs": [],
   "source": [
    "#Word In list----\n",
    "guess_in_list <-  function(target, guess) {\n",
    "  if(!(guess %in% word_list$word)){\n",
    "    stop(\"Error - not a real word\")\n",
    "  }\n",
    "}"
   ]
  },
  {
   "cell_type": "markdown",
   "id": "c6f8c433-3e79-40ef-a162-86500fa96ff5",
   "metadata": {},
   "source": [
    "#### Continue Game"
   ]
  },
  {
   "cell_type": "code",
   "execution_count": 15,
   "id": "c4ecbd58-99fc-4c80-921e-33d8cd2f4514",
   "metadata": {},
   "outputs": [],
   "source": [
    "##Continue game functions----\n",
    "word_checker <- function(target_val, guess_val) {\n",
    "  output <- character(n_length)\n",
    "  target_remaining <- target_val\n",
    "  guess_remaining <- character(n_length)\n",
    "  \n",
    "  #target frequencies\n",
    "  target_freq <- data.frame(target_val) %>% \n",
    "    group_by(target_val) %>% \n",
    "    summarize(target_freq = n()) %>% #count the frequency of each letter in the target\n",
    "    ungroup()\n",
    "  #frequencies\n",
    "  freq <- data.frame(guess_val) %>% \n",
    "    mutate(position = 1:n_length) %>% #get position of letter in word\n",
    "    group_by(guess_val) %>% \n",
    "    mutate(guess_freq = n()) %>% #count the frequency of each letter in the guess\n",
    "    ungroup() %>% \n",
    "    left_join(target_freq, by = c(\"guess_val\" = \"target_val\")) %>% #join frequencies of guess and target together\n",
    "    mutate(target_freq = ifelse(is.na(target_freq) == TRUE, 0, target_freq)) # replace NA with 0 where target letter does not appear in guess\n",
    "  #minimum position flag\n",
    "  freq <- freq %>% group_by(guess_val) %>% \n",
    "    mutate(counter = row_number(guess_val)) %>% #get position of specific letter\n",
    "    ungroup()\n",
    "  \n",
    "  \n",
    "  for (i in 1:n_length){\n",
    "    \n",
    "    if(guess_val[i] == target_val[i]) {\n",
    "      output[i] <- 2\n",
    "      target_remaining[i] <- NA\n",
    "      \n",
    "    } else { #needs to only highlight 1 \n",
    "      #guess\n",
    "      guess_remaining[i] <-  guess_val[i]\n",
    "      output[i] <- 0\n",
    "    }\n",
    "  }\n",
    "  #Add counts to this for loop  \n",
    "  for (i in 1:n_length){\n",
    "    if((guess_val[i] != target_val[i]) & (guess_remaining[i] %in% target_remaining)){\n",
    "      #check counts\n",
    "      if(freq[i,3] <= freq[i,4]){\n",
    "        #if target counts = guess counts then \n",
    "        output[i] <-1\n",
    "        #if guess count != target count \n",
    "      }else if(freq[i,3] > freq[i,4] & freq[i,4] >= freq[i,5]){ #and in min position then \n",
    "        #only flag first case\n",
    "        output[i] <- 1\n",
    "        #not in\n",
    "      }  }\n",
    "  }\n",
    "  output <- data.frame(output)\n",
    "  return(output)\n",
    "  \n",
    "}"
   ]
  },
  {
   "cell_type": "code",
   "execution_count": 16,
   "id": "cd5cebe1-17ad-4373-936b-ce0178e31b24",
   "metadata": {},
   "outputs": [
    {
     "name": "stdout",
     "output_type": "stream",
     "text": [
      "  guess_val output\n",
      "1         g      0\n",
      "2         a      1\n",
      "3         w      0\n",
      "4         s      1\n",
      "5         y      0\n"
     ]
    }
   ],
   "source": [
    "#Function outputs\n",
    "guess_length(target, guess)\n",
    "guess_in_list(target, guess)\n",
    "\n",
    "#Continue game functions ----\n",
    "output <- word_checker(target_val, guess_val)\n",
    "output <- data.frame(guess_val, output)\n",
    "print(output)\n"
   ]
  },
  {
   "cell_type": "code",
   "execution_count": 17,
   "id": "c59ce8a8-fa04-440e-812f-20dbddec2bc5",
   "metadata": {},
   "outputs": [],
   "source": [
    "  output <- paste0(output$output,collapse=\"\")"
   ]
  },
  {
   "cell_type": "code",
   "execution_count": 29,
   "id": "71efa93c-485f-4ae3-bbfd-93e7865b1bf8",
   "metadata": {},
   "outputs": [],
   "source": [
    "output <- strsplit(output, \"\")[[1]]"
   ]
  },
  {
   "cell_type": "code",
   "execution_count": 30,
   "id": "ad22072d-0363-43d1-972b-a468016058cb",
   "metadata": {},
   "outputs": [
    {
     "data": {
      "text/html": [
       "<style>\n",
       ".list-inline {list-style: none; margin:0; padding: 0}\n",
       ".list-inline>li {display: inline-block}\n",
       ".list-inline>li:not(:last-child)::after {content: \"\\00b7\"; padding: 0 .5ex}\n",
       "</style>\n",
       "<ol class=list-inline><li>'0'</li><li>'1'</li><li>'0'</li><li>'1'</li><li>'0'</li></ol>\n"
      ],
      "text/latex": [
       "\\begin{enumerate*}\n",
       "\\item '0'\n",
       "\\item '1'\n",
       "\\item '0'\n",
       "\\item '1'\n",
       "\\item '0'\n",
       "\\end{enumerate*}\n"
      ],
      "text/markdown": [
       "1. '0'\n",
       "2. '1'\n",
       "3. '0'\n",
       "4. '1'\n",
       "5. '0'\n",
       "\n",
       "\n"
      ],
      "text/plain": [
       "[1] \"0\" \"1\" \"0\" \"1\" \"0\""
      ]
     },
     "metadata": {},
     "output_type": "display_data"
    }
   ],
   "source": [
    "output"
   ]
  },
  {
   "cell_type": "code",
   "execution_count": null,
   "id": "bfa6d84c-7b2a-41b5-a136-80440b74d89d",
   "metadata": {},
   "outputs": [
    {
     "data": {
      "text/html": [
       "'l'"
      ],
      "text/latex": [
       "'l'"
      ],
      "text/markdown": [
       "'l'"
      ],
      "text/plain": [
       "[1] \"l\""
      ]
     },
     "metadata": {},
     "output_type": "display_data"
    }
   ],
   "source": []
  }
 ],
 "metadata": {
  "environment": {
   "kernel": "ir",
   "name": "r-cpu.4-2.m108",
   "type": "gcloud",
   "uri": "gcr.io/deeplearning-platform-release/r-cpu.4-2:m108"
  },
  "kernelspec": {
   "display_name": "R",
   "language": "R",
   "name": "ir"
  },
  "language_info": {
   "codemirror_mode": "r",
   "file_extension": ".r",
   "mimetype": "text/x-r-source",
   "name": "R",
   "pygments_lexer": "r",
   "version": "4.2.3"
  }
 },
 "nbformat": 4,
 "nbformat_minor": 5
}
